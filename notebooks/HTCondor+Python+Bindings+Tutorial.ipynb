{
 "cells": [
  {
   "cell_type": "markdown",
   "metadata": {},
   "source": [
    "![HTCondor Logo](files/HTCondor_red_blk_notag.png)\n",
    "\n",
    "HTCondor Python Bindings Tutorial\n",
    "=======================================\n",
    "\n",
    "The HTCondor python bindings provide a powerful mechanism to interact with HTCondor from a python program.  They utilize the same C++ libraries as HTCondor itself, meaning they have nearly the same behavior as the command line tools.\n",
    "\n",
    "Here, you will learn the basics of the python bindings and how to use them.  This tutorial is broken down into two major sections:\n",
    "\n",
    "- **Introduction**, a quick overview of the major components.  Each learning module is meant to be done in sequence.  Start here if you have never used the bindings before.\n",
    "- **Advanced**, an in-depth examination of the nooks and crannies of the system.  Each module is standalone; read only those that look interesting to you.\n",
    "\n",
    "Introduction\n",
    "------------\n",
    "\n",
    "1.  [ClassAds Introduction](files/ClassAds+Introduction.ipynb).  The essentials of the ClassAd language. \n",
    "2.  [HTCondor Introduction](files/HTCondor+Introduction.ipynb).  How to interact with the individual HTCondor daemons.\n",
    "3.  [Submitting and Managing Jobs](files/Submitting+and+Managing+Jobs.ipynb).  Running jobs from python.\n",
    "\n",
    "Advanced\n",
    "--------\n",
    "1.  Advanced ClassAds.  Esoteric topics in the ClassAd language. *Contributions welcome!*\n",
    "2.  [Advanced Schedd Interaction](files/Advanced+Schedd+Interactions.ipynb).  Performing transactions in the schedd and querying history.\n",
    "3.  [Interacting with daemons](files/Interacting+With+Daemons.ipynb).  Generic commands that work with any HTCondor daemon.\n",
    "4.  [Scalable job tracking](files/Scalable+Job+Tracking.ipynb).  Techniques for keeping close track of many jobs without overloading the schedd.\n"
   ]
  },
  {
   "cell_type": "code",
   "execution_count": null,
   "metadata": {
    "collapsed": true
   },
   "outputs": [],
   "source": []
  }
 ],
 "metadata": {
  "kernelspec": {
   "display_name": "Python 2",
   "language": "python",
   "name": "python2"
  },
  "language_info": {
   "codemirror_mode": {
    "name": "ipython",
    "version": 2
   },
   "file_extension": ".py",
   "mimetype": "text/x-python",
   "name": "python",
   "nbconvert_exporter": "python",
   "pygments_lexer": "ipython2",
   "version": "2.7.12"
  }
 },
 "nbformat": 4,
 "nbformat_minor": 2
}
