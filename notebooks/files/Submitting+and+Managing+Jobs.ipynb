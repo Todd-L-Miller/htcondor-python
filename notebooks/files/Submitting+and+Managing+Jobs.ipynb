{
 "cells": [
  {
   "cell_type": "markdown",
   "metadata": {},
   "source": [
    "Submitting and Managing Jobs\n",
    "============================\n",
    "\n",
    "The two most common HTCondor command line tools are `condor_q` and `condor_submit`; in the previous module, we learning the `xquery()` method that corresponds to `condor_q`. Here, we will learn the Python binding equivalent of `condor_submit`.\n",
    "\n",
    "As usual, we start by importing the relevant modules:"
   ]
  },
  {
   "cell_type": "code",
   "execution_count": null,
   "metadata": {
    "collapsed": true
   },
   "outputs": [],
   "source": [
    "import htcondor"
   ]
  },
  {
   "cell_type": "markdown",
   "metadata": {},
   "source": [
    "Submitting Jobs\n",
    "---------------\n",
    "\n",
    "We will submit jobs utilizing the dedicated `Submit` object.\n",
    "\n",
    "**Note** the Submit object was introduced in 8.5.6, which might be newer than your home cluster. The original API, using the `Schedd.submit` method, utilizes raw ClassAds and is not covered here.\n",
    "\n",
    "`Submit` objects consist of key-value pairs. Unlike ClassAds, the values do not have an inherent type (such as strings, integers, or booleans); they are evaluated with macro expansion at submit time. Where reasonable, they behave like python dictionaries:"
   ]
  },
  {
   "cell_type": "code",
   "execution_count": null,
   "metadata": {
    "collapsed": false
   },
   "outputs": [],
   "source": [
    "sub = htcondor.Submit({\"foo\": \"1\", \"bar\": \"2\", \"baz\": \"$(foo)\"})\n",
    "sub.setdefault(\"qux\", \"3\")\n",
    "print \"=== START ===\\n%s\\n=== END ===\" % sub\n",
    "print sub.expand(\"baz\")"
   ]
  },
  {
   "cell_type": "markdown",
   "metadata": {},
   "source": [
    "The available attribuets - and their semantics - are relatively well documented in the `condor_submit` [online help](http://research.cs.wisc.edu/htcondor/manual/v8.5/condor_submit.html); we won’t repeat them here. A minimal, but realistic submit object may look like the following:"
   ]
  },
  {
   "cell_type": "code",
   "execution_count": null,
   "metadata": {
    "collapsed": true
   },
   "outputs": [],
   "source": [
    "sub = htcondor.Submit({\"executable\": \"/bin/sleep\", \"arguments\": \"5m\"})"
   ]
  },
  {
   "cell_type": "markdown",
   "metadata": {},
   "source": [
    "To go from a submit object to job in a schedd, one must do three things:\n",
    "\n",
    "1.  Create a new transaction in the schedd using `transaction()`.\n",
    "2.  Call the `queue()` method, passing the transaction object.\n",
    "3.  Commit the transaction.\n",
    "\n",
    "Since the transaction object is a python context, (1) and (3) can be achieved using Python's with statement:"
   ]
  },
  {
   "cell_type": "code",
   "execution_count": null,
   "metadata": {
    "collapsed": false
   },
   "outputs": [],
   "source": [
    "schedd = htcondor.Schedd()         # Create a schedd object using default settings.\n",
    "with schedd.transaction() as txn:  # txn will now represent the transaction.\n",
    "   print sub.queue(txn)            # Queues one job in the current transaction; returns job's cluster ID"
   ]
  },
  {
   "cell_type": "markdown",
   "metadata": {},
   "source": [
    "If the code block inside the `with` statement completes successfully, the transaction is automatically committed. If an exception is thrown (or Python abruptly exits), the transaction is aborted.\n",
    "\n",
    "Managing Jobs\n",
    "-------------\n",
    "\n",
    "Once a job is in queue, the schedd will try its best to execute it to completion. There are several cases where a user may want to interrupt the normal flow of jobs. Perhaps the results are no longer needed; perhaps the job needs to be edited to correct a submission error. These actions fall under the purview of _job management_.\n",
    "\n",
    "There are two `Schedd` methods dedicated to job management:\n",
    "\n",
    "* `edit()`: Change an attribute for a set of jobs to a given expression. If invoked within a transaction, multiple calls to `edit` are visible atomically.\n",
    "   * The set of jobs to change can be given as a ClassAd expression. If no jobs match the filter, _then an exception is thrown_.\n",
    "* `act()`: Change the state of a job to a given state (remove, hold, suspend, etc).\n",
    "\n",
    "Both methods take a _job specification_: either a ClassAd expression (such as `Owner=?=\"janedoe\"`)\n",
    "or a list of job IDs (such as `[\"1.1\", \"2.2\", \"2.3\"]`).  The `act` method takes an argument\n",
    "from the `JobAction` enum.  Commonly-used values include:\n",
    "\n",
    "* `Hold`: put a job on hold, vacating a running job if necessary.  A job will stay in the hold\n",
    "   state until explicitly acted upon by the admin or owner.\n",
    "* `Release`: Release a job from the hold state, returning it to Idle.\n",
    "* `Remove`: Remove a job from the Schedd's queue, cleaning it up first on the remote host (if running).\n",
    "   This requires the remote host to acknowledge it has successfully vacated the job, meaning ``Remove`` may\n",
    "   not be instantaneous.\n",
    "* `Vacate`: Cause a running job to be killed on the remote resource and return to idle state.  With\n",
    "  `Vacate`, jobs may be given significant time to cleanly shut down.\n",
    "\n",
    "Here's an example of job management in action:"
   ]
  },
  {
   "cell_type": "code",
   "execution_count": null,
   "metadata": {
    "collapsed": false
   },
   "outputs": [],
   "source": [
    "with schedd.transaction() as txn:\n",
    "    clusterId = sub.queue(txn, 5)  # Queues 5 copies of this job.\n",
    "    schedd.edit([\"%d.0\" % clusterId, \"%d.1\" % clusterId], \"foo\", '\"bar\"') # Sets attribute foo to the string \"bar\".\n",
    "print \"=== START JOB STATUS ===\"\n",
    "for job in schedd.xquery(requirements=\"ClusterId == %d\" % clusterId, projection=[\"ProcId\", \"foo\", \"JobStatus\"]):\n",
    "    print \"%d: foo=%s, job_status = %d\" % (job.get(\"ProcId\"), job.get(\"foo\", \"default_string\"), job[\"JobStatus\"])\n",
    "print \"=== END ===\"\n",
    "\n",
    "schedd.act(htcondor.JobAction.Hold, 'ClusterId==%d && ProcId >= 2' % clusterId)\n",
    "print \"=== START JOB STATUS ===\"\n",
    "for job in schedd.xquery(requirements=\"ClusterId == %d\" % clusterId, projection=[\"ProcId\", \"foo\", \"JobStatus\"]):\n",
    "    print \"%d: foo=%s, job_status = %d\" % (job.get(\"ProcId\"), job.get(\"foo\", \"default_string\"), job[\"JobStatus\"])\n",
    "print \"=== END ===\""
   ]
  },
  {
   "cell_type": "markdown",
   "metadata": {},
   "source": [
    "That's It!\n",
    "----------\n",
    "\n",
    "You've made it through the very basics of the python bindings.  While there are many other features the python\n",
    "module has to offer, we have covered enough to replace the command line tools of `condor_q`, `condor_submit`,\n",
    "`condor_status`, `condor_rm` and others.\n",
    "\n",
    "Head back to the top-level notebook and try out one of our advanced tutorials."
   ]
  }
 ],
 "metadata": {
  "kernelspec": {
   "display_name": "Python 2",
   "language": "python",
   "name": "python2"
  },
  "language_info": {
   "codemirror_mode": {
    "name": "ipython",
    "version": 2
   },
   "file_extension": ".py",
   "mimetype": "text/x-python",
   "name": "python",
   "nbconvert_exporter": "python",
   "pygments_lexer": "ipython2",
   "version": "2.7.12"
  }
 },
 "nbformat": 4,
 "nbformat_minor": 2
}
