{
 "cells": [
  {
   "cell_type": "markdown",
   "metadata": {},
   "source": [
    "Advanced Schedd Interaction\n",
    "===========================\n",
    "\n",
    "The introductory tutorial only scratches the surface of what the Python bindings\n",
    "can do with the ``condor_schedd``; this module focuses on covering a wider range\n",
    "of functionality:\n",
    "\n",
    "*  Job and history querying.\n",
    "*  Advanced job submission.\n",
    "*  Python-based negotiation with the Schedd.\n",
    "\n",
    "As usual, let's start by importing the `htcondor` module:"
   ]
  },
  {
   "cell_type": "code",
   "execution_count": null,
   "metadata": {
    "collapsed": true
   },
   "outputs": [],
   "source": [
    "import htcondor"
   ]
  },
  {
   "cell_type": "markdown",
   "metadata": {},
   "source": [
    "Job and History Querying\n",
    "------------------------\n",
    "\n",
    "In [HTCondor Introduction](files/HTCondor+Introduction.ipynb), we covered the `Schedd.xquery` method\n",
    "and its two most important keywords:\n",
    "\n",
    "*  ``requirements``: Filters the jobs the schedd should return.\n",
    "*  ``projection``: Filters the attributes returned for each job.\n",
    "\n",
    "For those familiar with SQL queries, ``requirements`` performs the equivalent\n",
    "as the ``WHERE`` clause while ``projection`` performs the equivalent of the column\n",
    "listing in ``SELECT``.\n",
    "\n",
    "There are two other keywords worth mentioning:\n",
    "\n",
    "*  ``limit``: Limits the number of returned ads; equivalent to SQL's ``LIMIT``.\n",
    "*  ``opts``: Additional flags to send to the schedd to alter query behavior.\n",
    "   The only flag currently defined is `QueryOpts.AutoCluster`; this\n",
    "   groups the returned results by the current set of \"auto-cluster\" attributes\n",
    "   used by the pool.  It's analogous to ``GROUP BY`` in SQL, except the columns\n",
    "   used for grouping are controlled by the schedd.\n",
    "\n",
    "To illustrate these additional keywords, let's first submit a few jobs:"
   ]
  },
  {
   "cell_type": "code",
   "execution_count": null,
   "metadata": {
    "collapsed": false
   },
   "outputs": [],
   "source": [
    "schedd = htcondor.Schedd()\n",
    "sub = htcondor.Submit({\n",
    "                       \"executable\": \"/bin/sleep\",\n",
    "                       \"arguments\":  \"5m\",\n",
    "                       \"hold\":       \"True\",\n",
    "                      })\n",
    "with schedd.transaction() as txn:\n",
    "    clusterId = sub.queue(txn, 10)\n",
    "print clusterId"
   ]
  },
  {
   "cell_type": "markdown",
   "metadata": {},
   "source": [
    "**Note:** In this example, we used the ``hold`` submit command to indicate that\n",
    "the jobs should start out in the ``condor_schedd`` in the *Hold* state; this\n",
    "is used simply to prevent the jobs from running to completion while you are\n",
    "running the tutorial.\n",
    "\n",
    "We now have 10 jobs running under ``clusterId``; they should all be identical:"
   ]
  },
  {
   "cell_type": "code",
   "execution_count": null,
   "metadata": {
    "collapsed": false
   },
   "outputs": [],
   "source": [
    "print sum(1 for _ in schedd.xquery(projection=[\"ProcID\"], requirements=\"ClusterId==%d\" % clusterId, limit=5))"
   ]
  },
  {
   "cell_type": "markdown",
   "metadata": {},
   "source": [
    "The ``sum(1 for _ in ...)`` syntax is a simple way to count the number of items\n",
    "produced by an iterator without buffering all the objects in memory.\n",
    "\n",
    "Querying many Schedds\n",
    "---------------------\n",
    "\n",
    "On larger pools, it's common to write python scripts that interact with not one but many schedds.  For example,\n",
    "if you want to implement a \"global query\" (equivalent to ``condor_q -g``; concatenates all jobs in all schedds),\n",
    "it might be tempting to write code like this:"
   ]
  },
  {
   "cell_type": "code",
   "execution_count": null,
   "metadata": {
    "collapsed": false
   },
   "outputs": [],
   "source": [
    "jobs = []\n",
    "for schedd_ad in htcondor.Collector().locateAll(htcondor.DaemonTypes.Schedd):\n",
    "    schedd = htcondor.Schedd(schedd_ad)\n",
    "    jobs += schedd.xquery()\n",
    "print len(jobs)"
   ]
  },
  {
   "cell_type": "markdown",
   "metadata": {},
   "source": [
    "This is sub-optimal for two reasons:\n",
    "\n",
    "*  ``xquery`` is not given any projection, meaning it will pull all attributes for all jobs -\n",
    "   much more data than is needed for simply counting jobs.\n",
    "*  The querying across all schedds is serialized: we may wait for painfully long on one or two\n",
    "   \"bad apples.\"\n",
    "\n",
    "We can instead begin the query for all schedds simultaneously, then read the responses as\n",
    "they are sent back.  First, we start all the queries without reading responses:"
   ]
  },
  {
   "cell_type": "code",
   "execution_count": null,
   "metadata": {
    "collapsed": false
   },
   "outputs": [],
   "source": [
    "queries = []\n",
    "coll_query = htcondor.Collector().locateAll(htcondor.DaemonTypes.Schedd)\n",
    "for schedd_ad in coll_query:\n",
    "    schedd_obj = htcondor.Schedd(schedd_ad)\n",
    "    queries.append(schedd_obj.xquery())"
   ]
  },
  {
   "cell_type": "markdown",
   "metadata": {},
   "source": [
    "The iterators will yield the matching jobs; to return the autoclusters instead of jobs, use\n",
    "the ``AutoCluster`` option (``schedd_obj.xquery(opts=htcondor.QueryOpts.AutoCluster)``).  One\n",
    "auto-cluster ad is returned for each set of jobs that have identical values for all significant\n",
    "attributes.  A sample auto-cluster looks like:\n",
    "\n",
    "       [\n",
    "        RequestDisk = DiskUsage;\n",
    "        Rank = 0.0;\n",
    "        FileSystemDomain = \"hcc-briantest7.unl.edu\";\n",
    "        MemoryUsage = ( ( ResidentSetSize + 1023 ) / 1024 );\n",
    "        ImageSize = 1000;\n",
    "        JobUniverse = 5;\n",
    "        DiskUsage = 1000;\n",
    "        JobCount = 1;\n",
    "        Requirements = ( TARGET.Arch == \"X86_64\" ) && ( TARGET.OpSys == \"LINUX\" ) && ( TARGET.Disk >= RequestDisk ) && ( TARGET.Memory >= RequestMemory ) && ( ( TARGET.HasFileTransfer ) || ( TARGET.FileSystemDomain == MY.FileSystemDomain ) );\n",
    "        RequestMemory = ifthenelse(MemoryUsage isnt undefined,MemoryUsage,( ImageSize + 1023 ) / 1024);\n",
    "        ResidentSetSize = 0;\n",
    "        ServerTime = 1483758177;\n",
    "        AutoClusterId = 2\n",
    "       ]\n",
    "\n",
    "We use the `poll` function, which will return when a query has available results:"
   ]
  },
  {
   "cell_type": "code",
   "execution_count": null,
   "metadata": {
    "collapsed": false
   },
   "outputs": [],
   "source": [
    "job_counts = {}\n",
    "for query in htcondor.poll(queries):\n",
    "   schedd_name = query.tag()\n",
    "   job_counts.setdefault(schedd_name, 0)\n",
    "   count = len(query.nextAdsNonBlocking())\n",
    "   job_counts[schedd_name] += count\n",
    "   print \"Got %d results from %s.\" % (count, schedd_name)\n",
    "print job_counts"
   ]
  },
  {
   "cell_type": "markdown",
   "metadata": {},
   "source": [
    "The `QueryIterator.tag` method is used to identify which query is returned; the\n",
    "tag defaults to the Schedd's name but can be manually set through the ``tag`` keyword argument\n",
    "to `Schedd.xquery`.\n",
    "\n",
    "History Queries\n",
    "---------------\n",
    "\n",
    "After a job has finished in the Schedd, it moves from the queue to the history file.  The\n",
    "history can be queried (locally or remotely) with the `Schedd.history` method:"
   ]
  },
  {
   "cell_type": "code",
   "execution_count": null,
   "metadata": {
    "collapsed": false
   },
   "outputs": [],
   "source": [
    "schedd = htcondor.Schedd()\n",
    "for ad in schedd.history('true', ['ProcId', 'ClusterId', 'JobStatus', 'WallDuration'], 2):\n",
    "    print ad"
   ]
  },
  {
   "cell_type": "markdown",
   "metadata": {},
   "source": [
    "At the time of writing, unlike `Schedd.xquery`, `Schedd.history`\n",
    "takes positional arguments and not keyword.  The first argument a job constraint; second is the\n",
    "projection list; the third is the maximum number of jobs to return.\n",
    "\n",
    "Advanced Job Submission\n",
    "-----------------------\n",
    "\n",
    "In [HTCondor Introduction](files/HTCondor+Introduction.ipynb), we introduced the `Submit` object.  `Submit`\n",
    "allows jobs to be created using the *submit file* language.  This is the well-documented, familiar\n",
    "means for submitting jobs via ``condor_submit``.  This is the preferred mechansim for submitting\n",
    "jobs from Python.\n",
    "\n",
    "Internally, the submit files are converted to a job ClassAd.  The older `Schedd.submit`\n",
    "method allows jobs to be submitted as ClassAds.  For example:"
   ]
  },
  {
   "cell_type": "code",
   "execution_count": null,
   "metadata": {
    "collapsed": false
   },
   "outputs": [],
   "source": [
    "import os.path\n",
    "schedd = htcondor.Schedd()\n",
    "job_ad = { \\\n",
    "     'Cmd': '/bin/sh',\n",
    "     'JobUniverse': 5,\n",
    "     'Iwd': os.path.abspath(\"/tmp\"),\n",
    "     'Out': 'testclaim.out',\n",
    "     'Err': 'testclaim.err',\n",
    "     'Arguments': 'sleep 5m',\n",
    " }\n",
    "clusterId = schedd.submit(job_ad, count=2)\n",
    "print clusterId"
   ]
  },
  {
   "cell_type": "markdown",
   "metadata": {},
   "source": [
    "This will submit two copies of the job described by ``job_ad`` into a single job cluster.\n",
    "\n",
    "**Hint**: To generate an example ClassAd, take a sample submit description\n",
    "file and invoke:\n",
    "\n",
    "      condor_submit -dump <filename> [cmdfile]\n",
    "\n",
    "Then, load the resulting contents of ``<filename>`` into Python.\n",
    "\n",
    "Calling `Schedd.submit` standalone will automatically create and commit a transaction.\n",
    "Multiple jobs can be submitted atomically and more efficiently within a `Schedd.transaction()`\n",
    "context.\n",
    "\n",
    "Each `Schedd.submit` invocation will create a new job cluster; all attributes will be\n",
    "identical except for the ``ProcId`` attribute (process IDs are assigned in monotonically increasing order,\n",
    "starting at zero).  If jobs in the same cluster need to differ on additional attributes, one may use the\n",
    "`Schedd.submitMany` method:"
   ]
  },
  {
   "cell_type": "code",
   "execution_count": null,
   "metadata": {
    "collapsed": false
   },
   "outputs": [],
   "source": [
    "foo = {'myAttr': 'foo'}\n",
    "bar = {'myAttr': 'bar'}\n",
    "clusterId = schedd.submitMany(job_ad, [(foo, 2), (bar, 2)])\n",
    "print list(schedd.xquery('ClusterId==%d' % clusterId, ['ProcId', 'myAttr']))"
   ]
  },
  {
   "cell_type": "markdown",
   "metadata": {},
   "source": [
    "`Schedd.submitMany` takes a basic job ad (sometimes referred to as the *cluster ad*),\n",
    "shared by all jobs in the cluster and a list of *process ads*.  The process ad list indicates\n",
    "the attributes that should be overridden for individual jobs, as well as the number of such jobs\n",
    "that should be submitted.\n",
    "\n",
    "Job Spooling\n",
    "------------\n",
    "\n",
    "HTCondor file transfer will move output and input files to and from the submit host; these files will\n",
    "move back to the original location on the host.  In some cases, this may be problematic; you may want\n",
    "to submit one set of jobs to run ``/home/jovyan/a.out``, recompile the binary, then submit a fresh\n",
    "set of jobs.  By using the *spooling* feature, the ``condor_schedd`` will make a private copy of\n",
    "``a.out`` after submit, allowing the user to make new edits.\n",
    "\n",
    "**Hint**: Although here we give an example of using `Schedd.spool` for spooling on\n",
    "   the local Schedd, with appropriate authoriation the same methods can be used for submitting to\n",
    "   remote hosts.\n",
    "\n",
    "To spool, one must specify this at submit time and invoke the `Schedd.spool` method\n",
    "and provide an ``ad_results`` array:"
   ]
  },
  {
   "cell_type": "code",
   "execution_count": null,
   "metadata": {
    "collapsed": true
   },
   "outputs": [],
   "source": [
    "ads = []\n",
    "cluster = schedd.submit(job_ad, 1, spool=True, ad_results=ads)\n",
    "schedd.spool(ads)"
   ]
  },
  {
   "cell_type": "markdown",
   "metadata": {},
   "source": [
    "This will copy the files into the Schedd's ``spool`` directory.  After the job completes, its\n",
    "output files will stay in the spool.  One needs to call `Schedd.retrieve` to\n",
    "move the outputs back to their final destination:"
   ]
  },
  {
   "cell_type": "code",
   "execution_count": null,
   "metadata": {
    "collapsed": false
   },
   "outputs": [],
   "source": [
    "schedd.retrieve(\"ClusterId == %d\" % cluster)"
   ]
  },
  {
   "cell_type": "markdown",
   "metadata": {},
   "source": [
    "\n",
    "Negotiation with the Schedd\n",
    "---------------------------\n",
    "\n",
    "The ``condor_negotiator`` daemon gathers job and machine ClassAds, tries to match machines\n",
    "to available jobs, and sends these matches to the ``condor_schedd``.\n",
    "\n",
    "In truth, the \"match\" is internally a *claim* on the resource; the Schedd is allowed to\n",
    "execute one or more job on it.\n",
    "\n",
    "The python bindings can also send claims to the Schedds.  First, we must prepare the\n",
    "claim objects by taking the slot's public ClassAd and adding a ``ClaimId`` attribute:"
   ]
  },
  {
   "cell_type": "code",
   "execution_count": null,
   "metadata": {
    "collapsed": false
   },
   "outputs": [],
   "source": [
    "coll = htcondor.Collector()\n",
    "private_ads = coll.query(htcondor.AdTypes.StartdPrivate)\n",
    "startd_ads = coll.query(htcondor.AdTypes.Startd)\n",
    "claim_ads = []\n",
    "for ad in startd_ads:\n",
    "    if \"Name\" not in ad: continue\n",
    "    found_private = False\n",
    "    for pvt_ad in private_ads:\n",
    "        if pvt_ad.get('Name') == ad['Name']:\n",
    "            found_private = True\n",
    "            ad['ClaimId'] = pvt_ad['Capability']\n",
    "            claim_ads.append(ad)"
   ]
  },
  {
   "cell_type": "markdown",
   "metadata": {},
   "source": [
    "Once the claims are prepared, we can send them to the schedd.  Here's an example of\n",
    "sending the claim to user ``jovyan@example.com``, for any matching ad:"
   ]
  },
  {
   "cell_type": "code",
   "execution_count": null,
   "metadata": {
    "collapsed": true
   },
   "outputs": [],
   "source": [
    "with htcondor.Schedd().negotiate(\"bbockelm@unl.edu\") as session:\n",
    "    found_claim = False\n",
    "    for resource_request in session:\n",
    "        for claim_ad in claim_ads:\n",
    "            if resource_request.symmetricMatch(claim_ad):\n",
    "                print \"Sending claim for\", claim_ad[\"Name\"]\n",
    "                session.sendClaim(claim_ads[0])\n",
    "                found_claim = True\n",
    "                break\n",
    "        if found_claim: break"
   ]
  },
  {
   "cell_type": "markdown",
   "metadata": {},
   "source": [
    "This is far cry from what the ``condor_negotiator`` actually does (the negotiator\n",
    "additionally enforces fairshare, for example).\n",
    "\n",
    "**Note**: The python bindings can send claims to the schedd immediately, even without\n",
    "   reading the resource request from the schedd.  The schedd will only utilize the\n",
    "   claim if there's a matching job, however."
   ]
  }
 ],
 "metadata": {
  "kernelspec": {
   "display_name": "Python 2",
   "language": "python",
   "name": "python2"
  },
  "language_info": {
   "codemirror_mode": {
    "name": "ipython",
    "version": 2
   },
   "file_extension": ".py",
   "mimetype": "text/x-python",
   "name": "python",
   "nbconvert_exporter": "python",
   "pygments_lexer": "ipython2",
   "version": "2.7.12"
  }
 },
 "nbformat": 4,
 "nbformat_minor": 2
}
