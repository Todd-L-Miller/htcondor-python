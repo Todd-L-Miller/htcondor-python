{
 "cells": [
  {
   "cell_type": "markdown",
   "metadata": {},
   "source": [
    "Interacting With Daemons\n",
    "========================\n",
    "\n",
    "In this module, we'll look at how the HTCondor python bindings can be used to\n",
    "interact with running daemons.\n",
    "\n",
    "Let's start by importing the correct modules:"
   ]
  },
  {
   "cell_type": "code",
   "execution_count": 2,
   "metadata": {
    "collapsed": true
   },
   "outputs": [],
   "source": [
    "import htcondor"
   ]
  },
  {
   "cell_type": "markdown",
   "metadata": {},
   "source": [
    "Configuration\n",
    "-------------\n",
    "\n",
    "The HTCondor configuration is exposed to Python in two ways:\n",
    "\n",
    "*  The local process's configuration is available in the module-level `param` object.\n",
    "*  A remote daemon's configuration may be queried using a `RemoteParam`\n",
    "\n",
    "The `param` object emulates a Python dictionary:"
   ]
  },
  {
   "cell_type": "code",
   "execution_count": 3,
   "metadata": {
    "collapsed": false
   },
   "outputs": [
    {
     "name": "stdout",
     "output_type": "stream",
     "text": [
      "/home/jovyan/condor//log/SchedLog\n",
      "None\n",
      "/tmp/log\n",
      "/tmp/log\n"
     ]
    }
   ],
   "source": [
    "print htcondor.param['SCHEDD_LOG']   # Prints the schedd's current log file.\n",
    "print htcondor.param.get('TOOL_LOG') # Print None as TOOL_LOG isn't set by default.\n",
    "print htcondor.param.setdefault('TOOL_LOG', '/tmp/log') # Sets TOOL_LOG to /tmp/log.\n",
    "print htcondor.param['TOOL_LOG']     # Prints /tmp/log, as set above."
   ]
  },
  {
   "cell_type": "markdown",
   "metadata": {},
   "source": [
    "Note that assignments to `param` will persist only in memory; if we use `reload_config` to re-read the configuration files from disk, our change to `TOOL_LOG` disappears:"
   ]
  },
  {
   "cell_type": "code",
   "execution_count": 4,
   "metadata": {
    "collapsed": false
   },
   "outputs": [
    {
     "name": "stdout",
     "output_type": "stream",
     "text": [
      "/tmp/log\n",
      "None\n"
     ]
    }
   ],
   "source": [
    "print htcondor.param.get(\"TOOL_LOG\")\n",
    "htcondor.reload_config()\n",
    "print htcondor.param.get(\"TOOL_LOG\")"
   ]
  },
  {
   "cell_type": "markdown",
   "metadata": {},
   "source": [
    "In HTCondor, a configuration *prefix* may indicate that a setting is specific to that daemon.  By default, the Python binding's prefix is ``TOOL``.  If you would like to use the configuration of a different daemon, utilize the ``set_subsystem`` function:"
   ]
  },
  {
   "cell_type": "code",
   "execution_count": 5,
   "metadata": {
    "collapsed": false
   },
   "outputs": [
    {
     "name": "stdout",
     "output_type": "stream",
     "text": [
      "bar\n",
      "baz\n",
      "bar\n",
      "baz\n"
     ]
    }
   ],
   "source": [
    "print htcondor.param.setdefault(\"TEST_FOO\", \"bar\")         # Sets the default value of TEST_FOO to bar\n",
    "print htcondor.param.setdefault(\"SCHEDD.TEST_FOO\", \"baz\")  # The schedd has a special setting for TEST_FOO\n",
    "print htcondor.param['TEST_FOO']        # Default access; should be 'bar'\n",
    "htcondor.set_subsystem('SCHEDD')  # Changes the running process to identify as a schedd.\n",
    "print htcondor.param['TEST_FOO']        # Since we now identify as a schedd, should use the special setting of 'baz'"
   ]
  },
  {
   "cell_type": "markdown",
   "metadata": {},
   "source": [
    "Between ``param``, ``reload_config``, and ``set_subsystem``, we can explore the configuration of the local host.\n",
    "\n",
    "What happens if we want to test the configuration of a remote daemon?  For that, we can use the `RemoteParam` class.\n",
    "\n",
    "The object is first initialized from the output of the `Collector.locate` method:"
   ]
  },
  {
   "cell_type": "code",
   "execution_count": 6,
   "metadata": {
    "collapsed": false
   },
   "outputs": [
    {
     "name": "stdout",
     "output_type": "stream",
     "text": [
      "<172.17.0.2:9618?addrs=172.17.0.2-9618+[--1]-9618&noUDP&sock=378_7bb3>\n"
     ]
    }
   ],
   "source": [
    "master_ad = htcondor.Collector().locate(htcondor.DaemonTypes.Master)\n",
    "print master_ad['MyAddress']\n",
    "master_param = htcondor.RemoteParam(master_ad)"
   ]
  },
  {
   "cell_type": "markdown",
   "metadata": {},
   "source": [
    "Once we have the ``master_param`` object, we can treat it like a local dictionary to access the remote daemon's configuration.\n",
    "\n",
    "**NOTE** that the `htcondor.param` objet attempts to infer type information for configuration values from the compile-time metadata while the `RemoteParam` object does not:"
   ]
  },
  {
   "cell_type": "code",
   "execution_count": 7,
   "metadata": {
    "collapsed": false
   },
   "outputs": [
    {
     "name": "stdout",
     "output_type": "stream",
     "text": [
      "'300'\n",
      "300\n"
     ]
    }
   ],
   "source": [
    "print master_param['UPDATE_INTERVAL'].__repr__()      # Returns a string\n",
    "print htcondor.param['UPDATE_INTERVAL'].__repr__()    # Returns an integer"
   ]
  },
  {
   "cell_type": "markdown",
   "metadata": {},
   "source": [
    "In fact, we can even *set* the daemon's configuration using the `RemoteParam` object... if we have permission.  By default, this is disabled for security reasons:"
   ]
  },
  {
   "cell_type": "code",
   "execution_count": 8,
   "metadata": {
    "collapsed": false
   },
   "outputs": [
    {
     "ename": "RuntimeError",
     "evalue": "Failed to set remote daemon parameter.",
     "output_type": "error",
     "traceback": [
      "\u001b[1;31m\u001b[0m",
      "\u001b[1;31mRuntimeError\u001b[0mTraceback (most recent call last)",
      "\u001b[1;32m<ipython-input-8-358526826d74>\u001b[0m in \u001b[0;36m<module>\u001b[1;34m()\u001b[0m\n\u001b[1;32m----> 1\u001b[1;33m \u001b[0mmaster_param\u001b[0m\u001b[1;33m[\u001b[0m\u001b[1;34m'UPDATE_INTERVAL'\u001b[0m\u001b[1;33m]\u001b[0m \u001b[1;33m=\u001b[0m \u001b[1;34m'500'\u001b[0m\u001b[1;33m\u001b[0m\u001b[0m\n\u001b[0m",
      "\u001b[1;31mRuntimeError\u001b[0m: Failed to set remote daemon parameter."
     ]
    }
   ],
   "source": [
    "master_param['UPDATE_INTERVAL'] = '500'"
   ]
  },
  {
   "cell_type": "markdown",
   "metadata": {},
   "source": [
    "Logging Subsystem\n",
    "-----------------\n",
    "\n",
    "The logging subsystem is available to the python bindings; this is often useful for debugging network connection issues between the client and server.\n",
    "\n",
    "**NOTE** Jupyter notebooks discard output from library code; hence, you will not see the results of ``enable_debug`` below."
   ]
  },
  {
   "cell_type": "code",
   "execution_count": 12,
   "metadata": {
    "collapsed": false
   },
   "outputs": [
    {
     "name": "stdout",
     "output_type": "stream",
     "text": [
      "12/30/16 20:06:44 Result of reading /etc/issue:  \\S\n",
      " \n",
      "12/30/16 20:06:44 Result of reading /etc/redhat-release:  CentOS Linux release 7.3.1611 (Core) \n",
      " \n",
      "12/30/16 20:06:44 Using processor count: 1 processors, 1 CPUs, 0 HTs\n",
      "12/30/16 20:06:44 Reading condor configuration from '/etc/condor/condor_config'\n",
      "12/30/16 20:06:44 my_popenv: Failed to exec in child, errno=2 (No such file or directory)\n",
      "12/30/16 20:06:44 Enumerating interfaces: lo 127.0.0.1 up\n",
      "12/30/16 20:06:44 Enumerating interfaces: eth0 172.17.0.2 up\n",
      "12/30/16 20:06:44 Enumerating interfaces: lo ::1 up\n",
      "12/30/16 20:06:44 Enumerating interfaces: eth0 fe80::42:acff:fe11:2 up\n",
      "12/30/16 20:06:44 Initializing Directory: curr_dir = /etc/condor/config.d\n",
      "12/30/16 20:06:44 Reading condor configuration from '/etc/condor/condor_config'\n",
      "12/30/16 20:06:44 my_popenv: Failed to exec in child, errno=2 (No such file or directory)\n",
      "12/30/16 20:06:44 Initializing Directory: curr_dir = /etc/condor/config.d\n",
      "12/30/16 20:06:44 Enumerating interfaces: lo 127.0.0.1 up\n",
      "12/30/16 20:06:44 Enumerating interfaces: eth0 172.17.0.2 up\n",
      "12/30/16 20:06:44 Enumerating interfaces: lo ::1 up\n",
      "12/30/16 20:06:44 Enumerating interfaces: eth0 fe80::42:acff:fe11:2 up\n",
      "12/30/16 20:06:44 Will use TCP to update collector cdd87e4fcb32 <172.17.0.2:9618>\n",
      "12/30/16 20:06:44 SharedPortClient: sent connection request to <172.17.0.2:9618> for shared port id 378_7bb3\n",
      "12/30/16 20:06:44 SharedPortClient: sent connection request to <172.17.0.2:9618> for shared port id 378_7bb3\n",
      "12/30/16 20:06:44 SharedPortClient: sent connection request to <172.17.0.2:9618> for shared port id 378_7bb3\n",
      "\n"
     ]
    }
   ],
   "source": [
    "htcondor.set_subsystem(\"TOOL\")\n",
    "htcondor.param['TOOL_DEBUG'] = 'D_FULLDEBUG'\n",
    "htcondor.param['TOOL_LOG'] = '/tmp/log'\n",
    "htcondor.enable_log()    # Send logs to the log file (/tmp/foo)\n",
    "htcondor.enable_debug()  # Send logs to stderr; this is ignored by the web notebook.\n",
    "print open(\"/tmp/log\").read()  # Print the log's contents."
   ]
  },
  {
   "cell_type": "markdown",
   "metadata": {},
   "source": [
    "Sending Daemon Commands\n",
    "-----------------------\n",
    "\n",
    "An administrator can send administrative commands directly to the remote daemon.  This is useful if you'd like a certain daemon restarted, drained, or reconfigured.\n",
    "\n",
    "Because we have a personal HTCondor instance, we are the administrator - and we can test this out!\n",
    "\n",
    "To send a command, use the top-level ``send_command`` function, provide a daemon location, and provide a specific command from the `DaemonCommands` enumeration.  For example, we can *reconfigure*:"
   ]
  },
  {
   "cell_type": "code",
   "execution_count": 13,
   "metadata": {
    "collapsed": false
   },
   "outputs": [
    {
     "name": "stdout",
     "output_type": "stream",
     "text": [
      "<172.17.0.2:9618?addrs=172.17.0.2-9618+[--1]-9618&noUDP&sock=378_7bb3>\n",
      "['12/30/16 20:07:51 Sent SIGHUP to NEGOTIATOR (pid 384)\\n', '12/30/16 20:07:51 Sent SIGHUP to SCHEDD (pid 395)\\n', '12/30/16 20:07:51 Sent SIGHUP to SHARED_PORT (pid 380)\\n', '12/30/16 20:07:51 Sent SIGHUP to STARTD (pid 413)\\n']\n"
     ]
    }
   ],
   "source": [
    "print master_ad['MyAddress']\n",
    "htcondor.send_command(master_ad, htcondor.DaemonCommands.Reconfig)\n",
    "import time\n",
    "time.sleep(1)\n",
    "log_lines = open(htcondor.param['MASTER_LOG']).readlines()\n",
    "print log_lines[-4:]"
   ]
  },
  {
   "cell_type": "markdown",
   "metadata": {},
   "source": [
    "We can also instruct the master to shut down a specific daemon:"
   ]
  },
  {
   "cell_type": "code",
   "execution_count": 14,
   "metadata": {
    "collapsed": false
   },
   "outputs": [
    {
     "name": "stdout",
     "output_type": "stream",
     "text": [
      "12/30/16 20:07:52 The SCHEDD (pid 395) exited with status 0\n",
      "\n"
     ]
    }
   ],
   "source": [
    "htcondor.send_command(master_ad, htcondor.DaemonCommands.DaemonOff, \"SCHEDD\")\n",
    "time.sleep(1)\n",
    "log_lines = open(htcondor.param['MASTER_LOG']).readlines()\n",
    "print log_lines[-1]"
   ]
  },
  {
   "cell_type": "markdown",
   "metadata": {},
   "source": [
    "Or even turn off the whole HTCondor instance:"
   ]
  },
  {
   "cell_type": "code",
   "execution_count": 15,
   "metadata": {
    "collapsed": false
   },
   "outputs": [
    {
     "name": "stdout",
     "output_type": "stream",
     "text": [
      "12/30/16 20:07:57 The NEGOTIATOR (pid 384) exited with status 0\n",
      "\n"
     ]
    }
   ],
   "source": [
    "htcondor.send_command(master_ad, htcondor.DaemonCommands.OffFast)\n",
    "time.sleep(1)\n",
    "log_lines = open(htcondor.param['MASTER_LOG']).readlines()\n",
    "print log_lines[-1]"
   ]
  },
  {
   "cell_type": "markdown",
   "metadata": {},
   "source": [
    "Let's turn HTCondor back on for future tutorials:"
   ]
  },
  {
   "cell_type": "code",
   "execution_count": null,
   "metadata": {
    "collapsed": false
   },
   "outputs": [],
   "source": [
    "import os\n",
    "os.system(\"condor_master\")"
   ]
  }
 ],
 "metadata": {
  "kernelspec": {
   "display_name": "Python 2",
   "language": "python",
   "name": "python2"
  },
  "language_info": {
   "codemirror_mode": {
    "name": "ipython",
    "version": 2
   },
   "file_extension": ".py",
   "mimetype": "text/x-python",
   "name": "python",
   "nbconvert_exporter": "python",
   "pygments_lexer": "ipython2",
   "version": "2.7.12"
  }
 },
 "nbformat": 4,
 "nbformat_minor": 2
}
