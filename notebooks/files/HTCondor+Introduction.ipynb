{
 "cells": [
  {
   "cell_type": "markdown",
   "metadata": {},
   "source": [
    "HTCondor Introduction\n",
    "=====================\n",
    "\n",
    "Let's start interacting with the HTCondor daemons!\n",
    "\n",
    "We'll cover the basics of two daemons, the _Collector_ and the _Schedd_:\n",
    "\n",
    "- The **Collector** maintains an inventory of all the pieces of the HTCondor pool.  For example, each machine that can run jobs will advertise a ClassAd describing its resources and state.  In this module, we'll learn the basics of querying the collector for information and displaying results.\n",
    "- The **Schedd** maintains a queue of jobs and is responsible for managing their execution.  We'll learn the basics of querying the schedd.\n",
    "\n",
    "There are several other daemons - particularly, the _Startd_ and the _Negotiator_ - the python bindings can interact with.  We'll cover those in the advanced modules.\n",
    "\n",
    "To better demonstrate how HTCondor works, we have launched a personal instance for you to use.  Your private HTCondor instance runs a minature HTCondor pool and can run a single job at a time.\n",
    "\n",
    "To start, let's import the `htcondor` modules."
   ]
  },
  {
   "cell_type": "code",
   "execution_count": null,
   "metadata": {
    "collapsed": true
   },
   "outputs": [],
   "source": [
    "import htcondor\n",
    "import classad"
   ]
  },
  {
   "cell_type": "markdown",
   "metadata": {},
   "source": [
    "Collector\n",
    "---------\n",
    "\n",
    "We'll start with the _Collector_, which gathers descriptions of the states of all the daemons in your HTCondor pool.  The collector provides both **service discovery** and **monitoring** for these daemons.\n",
    "\n",
    "Let's try to find the Schedd information for your HTCondor pool.  First, we'll create a `Collector` object, then use the `locate` method:"
   ]
  },
  {
   "cell_type": "code",
   "execution_count": null,
   "metadata": {
    "collapsed": false
   },
   "outputs": [],
   "source": [
    "coll = htcondor.Collector() # Create the object representing the collector.\n",
    "schedd_ad = coll.locate(htcondor.DaemonTypes.Schedd) # Locate the default schedd.\n",
    "print schedd_ad['MyAddress'] # Prints the location of the schedd, using HTCondor's internal addressing scheme."
   ]
  },
  {
   "cell_type": "markdown",
   "metadata": {},
   "source": [
    "The `locate` method takes a type of daemon and (optionall) a name, returning a ClassAd.  Here, we print out the resulting `MyAddress` key.\n",
    "\n",
    "A few minor points about the above example:\n",
    " - Because we didn't provide the collector with a constructor, we used the default collector in the container's configuration file.  If we wanted to instead query a non-default collector, we could have done `htcondor.Collector(\"collector.example.com\")`.\n",
    " - We used the `DaemonTypes` enumeration to pick the kind of daemon to return.\n",
    " - If there were multiple schedds in the pool, the `locate` query would have failed.  In such a case, we need to provide an explicit name to the method.  E.g., `coll.locate(htcondor.DaemonTypes.Schedd, \"schedd.example.com\")`.\n",
    " - The final output prints the schedd's location.  You may be surprised that this is not simply a `hostname:port`; to help manage addressing in the today's complicated Internet (full of NATs, private networks, and firewalls), a more flexible structure was needed.\n",
    "   - HTCondor developers sometimes refer to this as the _sinful string_; here, _sinful_ is a play on a Unix data structure, not a moral judgement.\n",
    "   \n",
    "The `locate` method often returns only enough data to contact a remote daemon.  Typically, a ClassAd records significantly more attributes.  For example, if we wanted to query for a few specific attributes, we would use the `query` method instead:"
   ]
  },
  {
   "cell_type": "code",
   "execution_count": null,
   "metadata": {
    "collapsed": false
   },
   "outputs": [],
   "source": [
    "coll.query(htcondor.AdTypes.Schedd, projection=[\"Name\", \"MyAddress\", \"DaemonCoreDutyCycle\"])"
   ]
  },
  {
   "cell_type": "markdown",
   "metadata": {},
   "source": [
    "Here, `query` takes an `AdType` (slightly more generic than the `DaemonTypes`, as many kinds of ads are in the collector) and several optional arguments, then returns a list of ClassAds.\n",
    "\n",
    "We used the `projection` keyword argument; this indicates what attributes you want returned.  The collector may automatically insert additional attributes (here, only `MyType`); if an ad is missing a requested attribute, it is simply not set in the returned ClassAd object.  If no projection is specified, then all attributes are returned.\n",
    "\n",
    "**WARNING**: when possible, utilize the projection to limit the data returned.  Some ads may have hundreds of attributes, making returning the entire ad an expensive operation.\n",
    "\n",
    "The projection filters the returned _keys_; to filter out unwanted _ads_, utilize the `constraint` option.  Let's do the same query again, but specify our hostname explicitly:"
   ]
  },
  {
   "cell_type": "code",
   "execution_count": null,
   "metadata": {
    "collapsed": false
   },
   "outputs": [],
   "source": [
    "import socket # We'll use this to automatically fill in our hostname\n",
    "coll.query(htcondor.AdTypes.Schedd, constraint='Name=?=%s' % classad.quote(\"jovyan@%s\" % socket.getfqdn()), projection=[\"Name\", \n",
    "\"MyAddress\", \"DaemonCoreDutyCycle\"])"
   ]
  },
  {
   "cell_type": "markdown",
   "metadata": {},
   "source": [
    "Notes:\n",
    "- `constraint` accepts either an `ExprTree` or `string` object; the latter is automatically parsed as an expression.\n",
    "- We used the `classad.quote` function to properly quote the hostname string.  In this example, we're relatively certain the hostname won't contain quotes.  However, it is good practice to use the `quote` function to avoid possible SQL-injection-type attacks.\n",
    "  - Consider what would happen if the host's FQDN contained spaces and doublequotes, such as `foo.example.com\" || true`."
   ]
  },
  {
   "cell_type": "markdown",
   "metadata": {},
   "source": [
    "Schedd\n",
    "------\n",
    "\n",
    "Let's try our hand at querying the `schedd`!\n",
    "\n",
    "First, we'll need a schedd object.  You may either create one out of the ad returned by `locate` above or use the default in the configuration file:"
   ]
  },
  {
   "cell_type": "code",
   "execution_count": null,
   "metadata": {
    "collapsed": false
   },
   "outputs": [],
   "source": [
    "schedd = htcondor.Schedd()\n",
    "schedd = htcondor.Schedd(schedd_ad)\n",
    "print schedd"
   ]
  },
  {
   "cell_type": "markdown",
   "metadata": {},
   "source": [
    "Unfortunately, as there are no jobs in our personal HTCondor pool, querying the `schedd` will be boring.  Let's submit a few jobs (**note** the API used below will be covered by the next module; it's OK if you don't understand it now):"
   ]
  },
  {
   "cell_type": "code",
   "execution_count": null,
   "metadata": {
    "collapsed": true
   },
   "outputs": [],
   "source": [
    "sub = htcondor.Submit()\n",
    "sub['executable'] = '/bin/sleep'\n",
    "sub['arguments'] = '5m'\n",
    "with schedd.transaction() as txn:\n",
    "    sub.queue(txn, 10)"
   ]
  },
  {
   "cell_type": "markdown",
   "metadata": {},
   "source": [
    "We should now have 10 jobs in queue, each of which should take 5 minutes to complete.\n",
    "\n",
    "Let's query for the jobs, paying attention to the jobs' ID and status:"
   ]
  },
  {
   "cell_type": "code",
   "execution_count": null,
   "metadata": {
    "collapsed": false
   },
   "outputs": [],
   "source": [
    "for job in schedd.xquery(projection=['ClusterId', 'ProcId', 'JobStatus']):\n",
    "    print job.__repr__()"
   ]
  },
  {
   "cell_type": "markdown",
   "metadata": {},
   "source": [
    "The `JobStatus` is an integer; the integers map into the following states:\n",
    "- `1`: Idle (`I`)\n",
    "- `2`: Running (`R`)\n",
    "- `3`: Removed (`X`)\n",
    "- `4`: Completed (`C`)\n",
    "- `5`: Held (`H`)\n",
    "- `6`: Transferring Output\n",
    "- `7`: Suspended\n",
    "\n",
    "Depending on how quickly you executed the notebook, you might see all jobs idle (`JobStatus = 1`) or one job running (`JobStatus = 2`) above.  It is rare to see the other codes.\n",
    "\n",
    "As with the Collector's `query` method, we can also filter out jobs using `xquery`:"
   ]
  },
  {
   "cell_type": "code",
   "execution_count": null,
   "metadata": {
    "collapsed": false
   },
   "outputs": [],
   "source": [
    "for job in schedd.xquery(requirements = 'ProcId >= 5', projection=['ProcId']):\n",
    "    print job.get('ProcId')"
   ]
  },
  {
   "cell_type": "markdown",
   "metadata": {},
   "source": [
    "Astute readers may notice that the `Schedd` object has both `xquery` and `query` methods.  The difference between the two mimics the difference between `xreadlines` and `readlines` call in the standard Python library:\n",
    "- `query` returns a _list_ of ClassAds, meaning all objects are held in memory at once.  This utilizes more memory and , but the size of the results is immediately available.  It utilizes an older, heavyweight protocol to communicate with the Schedd.\n",
    "- `xquery` returns an _iterator_ that produces ClassAds.  This only requires one ClassAd to be in memory at once.  It is much more lightweight, both on the client and server side.\n",
    "\n",
    "When in doubt, utilize `xquery`.\n",
    "\n",
    "Now that we have a running job, it may be useful to check the status of the machine in our HTCondor pool:"
   ]
  },
  {
   "cell_type": "code",
   "execution_count": null,
   "metadata": {
    "collapsed": false
   },
   "outputs": [],
   "source": [
    "print coll.query(htcondor.AdTypes.Startd, projection=['Name', 'Status', 'Activity', 'JobId', 'RemoteOwner'])[0]"
   ]
  },
  {
   "cell_type": "markdown",
   "metadata": {},
   "source": [
    "On Job Submission\n",
    "-----------------\n",
    "\n",
    "Congratulations - you can now perform simple queries against the collector for worker and submit hosts, as well as simple job queries against the submit host!\n",
    "\n",
    "It is now time to move on to [submitting and managing jobs](Submitting+and+Managing+Jobs.ipynb)."
   ]
  }
 ],
 "metadata": {
  "kernelspec": {
   "display_name": "Python 2",
   "language": "python",
   "name": "python2"
  },
  "language_info": {
   "codemirror_mode": {
    "name": "ipython",
    "version": 2
   },
   "file_extension": ".py",
   "mimetype": "text/x-python",
   "name": "python",
   "nbconvert_exporter": "python",
   "pygments_lexer": "ipython2",
   "version": "2.7.12"
  }
 },
 "nbformat": 4,
 "nbformat_minor": 2
}
